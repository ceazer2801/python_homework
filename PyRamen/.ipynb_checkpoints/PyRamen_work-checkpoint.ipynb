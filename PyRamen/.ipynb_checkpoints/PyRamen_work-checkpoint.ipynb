{
 "cells": [
  {
   "cell_type": "code",
   "execution_count": 57,
   "metadata": {
    "jupyter": {
     "source_hidden": true
    }
   },
   "outputs": [],
   "source": [
    "import csv\n",
    "from pathlib import Path\n",
    "import json\n",
    "\n",
    "menu_filepath = Path('./Resources/menu_data.csv')\n",
    "sales_filepath = Path('./Resources/sales_data.csv')\n",
    "output_path = Path(\"sales_report.txt\")\n",
    "\n",
    "menu = []\n",
    "sales = []\n",
    "report = {}\n",
    "quantity = 0\n",
    "price = 0\n",
    "cost = 0\n"
   ]
  },
  {
   "cell_type": "code",
   "execution_count": 58,
   "metadata": {},
   "outputs": [],
   "source": [
    "with open(menu_filepath, 'r') as menu_data:\n",
    "    reader = csv.reader(menu_data, delimiter=',')\n",
    "    header = next(reader)\n",
    "    \n",
    "    for row in reader:\n",
    "        menu.append(row)\n",
    "\n",
    "with open(sales_filepath, 'r') as sales_data:\n",
    "    reader = csv.reader(sales_data)\n",
    "    header = next(reader)\n",
    "    \n",
    "    for row in reader:\n",
    "        sales.append(row)"
   ]
  },
  {
   "cell_type": "code",
   "execution_count": 59,
   "metadata": {},
   "outputs": [],
   "source": [
    "    for row in sales:\n",
    "        quantity = int(row[3])\n",
    "        menu_item = str(row[4])\n",
    "        if menu_item not in report:\n",
    "            report[row[4]]= {\n",
    "                \"01-count\": 0,\n",
    "                \"02-revenue\":0,\n",
    "                \"03-cogs\":0,\n",
    "                \"04-profit\":0,\n",
    "            }\n",
    "        for line in menu:\n",
    "            item, cat, description, price, cost = line[0:5]\n",
    "            price = float(price)\n",
    "            cost = float(cost)\n",
    "            if menu_item == item:\n",
    "                report[menu_item][\"01-count\"] += quantity\n",
    "                report[menu_item][\"02-revenue\"] += price * quantity\n",
    "                report[menu_item][\"03-cogs\"] += cost * quantity\n",
    "                report[menu_item][\"04-profit\"] += (price - cost) * quantity\n",
    "\n",
    "    with open(output_path, \"w\") as file:\n",
    "        json.dump(report, file, indent=2)\n",
    "\n",
    "\n"
   ]
  },
  {
   "cell_type": "code",
   "execution_count": null,
   "metadata": {},
   "outputs": [],
   "source": []
  },
  {
   "cell_type": "code",
   "execution_count": null,
   "metadata": {},
   "outputs": [],
   "source": []
  },
  {
   "cell_type": "code",
   "execution_count": null,
   "metadata": {},
   "outputs": [],
   "source": []
  }
 ],
 "metadata": {
  "kernelspec": {
   "display_name": "Python 3",
   "language": "python",
   "name": "python3"
  },
  "language_info": {
   "codemirror_mode": {
    "name": "ipython",
    "version": 3
   },
   "file_extension": ".py",
   "mimetype": "text/x-python",
   "name": "python",
   "nbconvert_exporter": "python",
   "pygments_lexer": "ipython3",
   "version": "3.7.3"
  }
 },
 "nbformat": 4,
 "nbformat_minor": 4
}
